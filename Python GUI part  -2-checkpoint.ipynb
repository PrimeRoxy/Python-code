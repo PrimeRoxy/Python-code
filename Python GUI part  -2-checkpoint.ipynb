{
 "cells": [
  {
   "cell_type": "code",
   "execution_count": 2,
   "id": "0faced6e",
   "metadata": {},
   "outputs": [],
   "source": [
    "# Intro to popup window in python GUI\n",
    "\n",
    "\n",
    "from  tkinter import *\n",
    "from tkinter import simpledialog\n",
    "\n",
    "def get_me():\n",
    "    s = simpledialog.askstring(\"input string\", \"please enter your name\")\n",
    "    print(s)\n",
    "    \n",
    "root =Tk()\n",
    "\n",
    "button = Button(root, text=\"popup\", command=get_me).pack()\n",
    "\n",
    "root.geometry(\"400x400+200+120\")\n",
    "root.mainloop()"
   ]
  },
  {
   "cell_type": "code",
   "execution_count": null,
   "id": "aecfbd6e",
   "metadata": {},
   "outputs": [],
   "source": []
  },
  {
   "cell_type": "code",
   "execution_count": 3,
   "id": "4cc9ad4e",
   "metadata": {},
   "outputs": [],
   "source": [
    "# intro to slider and scale in python GUI\n",
    "\n",
    "\n",
    "from tkinter import *\n",
    "\n",
    "root =Tk()\n",
    "\n",
    "s= Scale(root, from_=0, to=100, orient=HORIZONTAL, length=200, width=10, sliderlength= 30)\n",
    "# s.set(40)\n",
    "s.pack()\n",
    "\n",
    "\n",
    "print(s.get())\n",
    "\n",
    "root.geometry(\"300x400+120+120\")\n",
    "root.mainloop()\n"
   ]
  },
  {
   "cell_type": "code",
   "execution_count": 11,
   "id": "8ea6ddce",
   "metadata": {},
   "outputs": [],
   "source": [
    "# wORKING WITH MULTIPLE window in PYTHON GUI\n",
    "\n",
    "from tkinter import *\n",
    "\n",
    "def open_window():\n",
    "    top =Toplevel()\n",
    "    top.title(\"Top window\")\n",
    "    top.geometry(\"250x250+120+120\")\n",
    "    b1= Button(top, text=\"Close\", command=top.destroy)\n",
    "    b1.pack()\n",
    "    \n",
    "root =Tk()\n",
    "\n",
    "b = Button(root, text=\"open window\", command=open_window).pack()\n",
    "root.geometry(\"300x300+120+120\")\n",
    "root.mainloop()"
   ]
  },
  {
   "cell_type": "code",
   "execution_count": 4,
   "id": "1cd6dd39",
   "metadata": {},
   "outputs": [],
   "source": [
    "# intro to spinbox in python GUI\n",
    "\n",
    "from tkinter import *\n",
    "\n",
    "def click_me():\n",
    "    print(spin.get())\n",
    "    \n",
    "root =Tk()\n",
    "\n",
    "spin = Spinbox(root,from_=1, to=8)\n",
    "spin.pack()\n",
    "\n",
    "button = Button(root, text=\"print\", command=click_me).pack()\n",
    "\n",
    "root.geometry(\"300x300+120+120\")\n",
    "root.mainloop()\n"
   ]
  },
  {
   "cell_type": "code",
   "execution_count": null,
   "id": "9e58a2d3",
   "metadata": {},
   "outputs": [],
   "source": []
  },
  {
   "cell_type": "code",
   "execution_count": 5,
   "id": "fb0112fa",
   "metadata": {},
   "outputs": [],
   "source": [
    "#  finding a file using filedialog in GUI in python finding\n",
    "\n",
    "from tkinter import *\n",
    "from tkinter import filedialog\n",
    "\n",
    "\n",
    "def open_file():\n",
    "    result = filedialog.askopenfile(initialdir=\"/\")\n",
    "    print(result)\n",
    "    for c in result:\n",
    "        print(c)\n",
    "    \n",
    "\n",
    "root =Tk()\n",
    "\n",
    "b = Button(root, text=\"Openfile\", command = open_file).pack()\n",
    "root.geometry(\"400x400+120+120\")\n",
    "root.mainloop()\n"
   ]
  },
  {
   "cell_type": "code",
   "execution_count": null,
   "id": "7ba8953f",
   "metadata": {},
   "outputs": [],
   "source": []
  },
  {
   "cell_type": "code",
   "execution_count": 10,
   "id": "cb304b7e",
   "metadata": {},
   "outputs": [],
   "source": [
    "# Making a file using filedialog in GUI in python \n",
    "\n",
    "from tkinter import *\n",
    "from tkinter import filedialog\n",
    "\n",
    "def save_file():\n",
    "    f = filedialog.asksaveasfile(mode =\"w\", defaultextension=\".txt\")\n",
    "    if f is None:\n",
    "        return\n",
    "    \n",
    "    f.write(\"Excutable programming access  \")\n",
    "    f.close()\n",
    "root = Tk()\n",
    "\n",
    "b =Button(root, text =\"Save as\", command =save_file).pack()\n",
    "root.geometry(\"400x400+120+120\")\n",
    "root.mainloop()"
   ]
  },
  {
   "cell_type": "code",
   "execution_count": 1,
   "id": "6db4ef16",
   "metadata": {},
   "outputs": [],
   "source": [
    "# quite and destroy using GUI python\n",
    "\n",
    "from tkinter import *\n",
    "\n",
    "def open_window():\n",
    "    top = Toplevel()\n",
    "    top.title(\"top window\")\n",
    "    top.geometry(\"400x400+120+120\")\n",
    "    b1= Button(top, text=\"close\", command=top.destroy)\n",
    "    b1.pack()\n",
    "    \n",
    "\n",
    "root =Tk()\n",
    "\n",
    "b = Button(root, text=\"open window\", command=open_window).pack()\n",
    "root.geometry(\"400x400+120+120\")\n",
    "root.mainloop()"
   ]
  },
  {
   "cell_type": "code",
   "execution_count": null,
   "id": "5b81ef3c",
   "metadata": {},
   "outputs": [],
   "source": []
  },
  {
   "cell_type": "code",
   "execution_count": null,
   "id": "7c4a966e",
   "metadata": {},
   "outputs": [],
   "source": []
  }
 ],
 "metadata": {
  "kernelspec": {
   "display_name": "Python 3 (ipykernel)",
   "language": "python",
   "name": "python3"
  },
  "language_info": {
   "codemirror_mode": {
    "name": "ipython",
    "version": 3
   },
   "file_extension": ".py",
   "mimetype": "text/x-python",
   "name": "python",
   "nbconvert_exporter": "python",
   "pygments_lexer": "ipython3",
   "version": "3.9.7"
  }
 },
 "nbformat": 4,
 "nbformat_minor": 5
}
