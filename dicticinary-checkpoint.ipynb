{
 "cells": [
  {
   "cell_type": "code",
   "execution_count": null,
   "id": "42197abe",
   "metadata": {},
   "outputs": [],
   "source": [
    "# dicttionary"
   ]
  },
  {
   "cell_type": "code",
   "execution_count": null,
   "id": "65e98a34",
   "metadata": {},
   "outputs": [],
   "source": [
    "#getting the value  from dictionary"
   ]
  },
  {
   "cell_type": "code",
   "execution_count": 13,
   "id": "ed30fc50",
   "metadata": {},
   "outputs": [
    {
     "name": "stdout",
     "output_type": "stream",
     "text": [
      "funny\n",
      "cool\n",
      "tiger\n",
      "rabbit\n",
      "dog\n",
      "parrot\n"
     ]
    }
   ],
   "source": [
    "d1 = {'tiger':'denger', \n",
    "      'rabbit':'funny', \n",
    "      'dog':'cool','parrot':'nauty'}\n",
    "print(d1['rabbit'])\n",
    "print(d1.get('dog'))\n",
    "for i in d1:\n",
    "    print(i)\n"
   ]
  },
  {
   "cell_type": "code",
   "execution_count": 14,
   "id": "da4b5dad",
   "metadata": {},
   "outputs": [
    {
     "name": "stdout",
     "output_type": "stream",
     "text": [
      "tiger\n",
      "rabbit\n",
      "dog\n",
      "parrot\n",
      "p\n",
      "a\n",
      "r\n",
      "r\n",
      "o\n",
      "t\n"
     ]
    }
   ],
   "source": [
    "for i in d1:\n",
    "    print(i)\n",
    "    \n",
    "for keys in i:\n",
    "    print(keys)"
   ]
  },
  {
   "cell_type": "code",
   "execution_count": null,
   "id": "976d7f45",
   "metadata": {},
   "outputs": [],
   "source": [
    "#add a new element, deleting item and changing the value of key in dictionary"
   ]
  },
  {
   "cell_type": "code",
   "execution_count": 28,
   "id": "7a8450b6",
   "metadata": {},
   "outputs": [
    {
     "name": "stdout",
     "output_type": "stream",
     "text": [
      "{'tiger': 'denger', 'rabbit': 'funny', 'dog': 'cool', 'parrot': 'cute', 'cheeta': 'faster'}\n",
      "{'tiger': 'denger', 'rabbit': 'funny', 'parrot': 'cute', 'cheeta': 'faster'}\n"
     ]
    }
   ],
   "source": [
    "d1 = {'tiger':'denger', 'rabbit':'funny', 'dog':'cool','parrot':'nauty'}\n",
    "d1['parrot'] = 'cute'\n",
    "d1['cheeta']= 'faster'\n",
    "print(d1)\n",
    "\n",
    "del d1['dog']\n",
    "\n",
    "print(d1)"
   ]
  },
  {
   "cell_type": "code",
   "execution_count": 27,
   "id": "421f5ce3",
   "metadata": {},
   "outputs": [
    {
     "name": "stdout",
     "output_type": "stream",
     "text": [
      "{'tiger': 'denger', 'rabbit': 'funny', 'parrot': 'cute', 'cheeta': 'faster', 'cat': 'lovely'}\n"
     ]
    }
   ],
   "source": [
    "d1.update({'cat':'lovely'})\n",
    "print(d1)"
   ]
  },
  {
   "cell_type": "code",
   "execution_count": 45,
   "id": "3edf4343",
   "metadata": {},
   "outputs": [
    {
     "name": "stdout",
     "output_type": "stream",
     "text": [
      "dict_keys(['tiger', 'rabbit', 'dog', 'parrot'])\n",
      "dict_values(['denger', 'funny', 'cool', 'nauty'])\n",
      "dict_items([('tiger', 'denger'), ('rabbit', 'funny'), ('dog', 'cool'), ('parrot', 'nauty')])\n"
     ]
    }
   ],
   "source": [
    "print(d1.keys())\n",
    "print(d1.values())\n",
    "print(d1.items())"
   ]
  },
  {
   "cell_type": "code",
   "execution_count": null,
   "id": "e6736c7e",
   "metadata": {},
   "outputs": [],
   "source": [
    "# aadding  dict...s"
   ]
  },
  {
   "cell_type": "code",
   "execution_count": 49,
   "id": "369eefb5",
   "metadata": {},
   "outputs": [
    {
     "name": "stdout",
     "output_type": "stream",
     "text": [
      "None\n",
      "{'tiger': 'denger', 'rabbit': 'funny', 'dog': 'cool', 'parrot': 'nauty', 'nature': 'beutyy', 'country': 200}\n"
     ]
    }
   ],
   "source": [
    "d1 = {'tiger':'denger', 'rabbit':'funny', 'dog':'cool','parrot':'nauty'}\n",
    "d2 = {'nature':'beutyy', 'country':200}\n",
    "    \n",
    "print(d1.update(d2))\n",
    "#update function merse the two dictionary but output is none\n",
    "\n",
    "new_d2 = d1.copy()\n",
    "new_d2.update(d1)\n",
    "print(new_d2)"
   ]
  },
  {
   "cell_type": "code",
   "execution_count": 50,
   "id": "f0fa45ff",
   "metadata": {},
   "outputs": [
    {
     "name": "stdout",
     "output_type": "stream",
     "text": [
      "{'tiger': 'denger', 'rabbit': 'funny', 'dog': 'cool', 'parrot': 'nauty', 'nature': 'beutyy', 'country': 200}\n"
     ]
    }
   ],
   "source": [
    "print(d1)"
   ]
  },
  {
   "cell_type": "code",
   "execution_count": 48,
   "id": "9c888f2a",
   "metadata": {},
   "outputs": [
    {
     "name": "stdout",
     "output_type": "stream",
     "text": [
      "{'nature': 'beutyy', 'country': 200}\n"
     ]
    }
   ],
   "source": []
  },
  {
   "cell_type": "code",
   "execution_count": null,
   "id": "12a3c54d",
   "metadata": {},
   "outputs": [],
   "source": []
  },
  {
   "cell_type": "code",
   "execution_count": null,
   "id": "c3e43ea8",
   "metadata": {},
   "outputs": [],
   "source": [
    "\n",
    "\n",
    "# SET\n",
    "\n",
    "\n",
    "#       in   \n",
    "\n",
    "\n",
    "\n",
    "#                      PYTHON\n",
    "\n",
    "\n"
   ]
  },
  {
   "cell_type": "code",
   "execution_count": null,
   "id": "6e379c3f",
   "metadata": {},
   "outputs": [],
   "source": []
  },
  {
   "cell_type": "code",
   "execution_count": null,
   "id": "6d975ce0",
   "metadata": {},
   "outputs": [],
   "source": []
  },
  {
   "cell_type": "code",
   "execution_count": null,
   "id": "5524b42b",
   "metadata": {},
   "outputs": [],
   "source": []
  },
  {
   "cell_type": "code",
   "execution_count": null,
   "id": "07ca0f14",
   "metadata": {},
   "outputs": [],
   "source": []
  }
 ],
 "metadata": {
  "kernelspec": {
   "display_name": "Python 3",
   "language": "python",
   "name": "python3"
  },
  "language_info": {
   "codemirror_mode": {
    "name": "ipython",
    "version": 3
   },
   "file_extension": ".py",
   "mimetype": "text/x-python",
   "name": "python",
   "nbconvert_exporter": "python",
   "pygments_lexer": "ipython3",
   "version": "3.8.8"
  }
 },
 "nbformat": 4,
 "nbformat_minor": 5
}
