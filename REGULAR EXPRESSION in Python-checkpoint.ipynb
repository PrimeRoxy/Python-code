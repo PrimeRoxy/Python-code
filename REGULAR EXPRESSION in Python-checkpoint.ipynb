{
 "cells": [
  {
   "cell_type": "markdown",
   "id": "20f04b09",
   "metadata": {},
   "source": [
    "# Regular expression Cheetshit\n",
    "\n",
    "\n",
    "[] A set of characters\n"
   ]
  },
  {
   "cell_type": "code",
   "execution_count": 4,
   "id": "2f351c51",
   "metadata": {},
   "outputs": [
    {
     "ename": "NameError",
     "evalue": "name 's' is not defined",
     "output_type": "error",
     "traceback": [
      "\u001b[1;31m---------------------------------------------------------------------------\u001b[0m",
      "\u001b[1;31mNameError\u001b[0m                                 Traceback (most recent call last)",
      "\u001b[1;32m<ipython-input-4-e07ce16b063d>\u001b[0m in \u001b[0;36m<module>\u001b[1;34m\u001b[0m\n\u001b[0;32m      6\u001b[0m \u001b[0mpattern\u001b[0m \u001b[1;33m=\u001b[0m \u001b[0mre\u001b[0m\u001b[1;33m.\u001b[0m\u001b[0mcompile\u001b[0m\u001b[1;33m(\u001b[0m\u001b[1;34mr'\\+\\d{12}'\u001b[0m\u001b[1;33m)\u001b[0m\u001b[1;33m\u001b[0m\u001b[1;33m\u001b[0m\u001b[0m\n\u001b[0;32m      7\u001b[0m \u001b[1;33m\u001b[0m\u001b[0m\n\u001b[1;32m----> 8\u001b[1;33m \u001b[0mmn\u001b[0m \u001b[1;33m=\u001b[0m \u001b[0mpattern\u001b[0m\u001b[1;33m.\u001b[0m\u001b[0mfinditer\u001b[0m\u001b[1;33m(\u001b[0m\u001b[0ms\u001b[0m\u001b[1;33m)\u001b[0m\u001b[1;33m\u001b[0m\u001b[1;33m\u001b[0m\u001b[0m\n\u001b[0m\u001b[0;32m      9\u001b[0m \u001b[1;32mfor\u001b[0m \u001b[0mmatch\u001b[0m \u001b[1;32min\u001b[0m \u001b[0mmn\u001b[0m\u001b[1;33m:\u001b[0m\u001b[1;33m\u001b[0m\u001b[1;33m\u001b[0m\u001b[0m\n\u001b[0;32m     10\u001b[0m     \u001b[0mprint\u001b[0m\u001b[1;33m(\u001b[0m\u001b[0mmatch\u001b[0m\u001b[1;33m)\u001b[0m\u001b[1;33m\u001b[0m\u001b[1;33m\u001b[0m\u001b[0m\n",
      "\u001b[1;31mNameError\u001b[0m: name 's' is not defined"
     ]
    }
   ],
   "source": [
    "# using finditer\n",
    "\n",
    "import re\n",
    "# s= \"this my mobile number +918322839234 and my office number is +982345678901\"\n",
    "\n",
    "pattern = re.compile(r'\\+\\d{12}')\n",
    "\n",
    "mn = pattern.finditer(s)\n",
    "for match in mn:\n",
    "    print(match)\n",
    "    \n",
    "print(s[22:35])\n",
    "\n",
    "# span provide the exact locaction of word or character just we have search in our string [:] using this."
   ]
  },
  {
   "cell_type": "markdown",
   "id": "60b6d847",
   "metadata": {},
   "source": [
    "### >>>>The module defines several functions and constants to work with RegEx. \n",
    "# The “re” module is composed of five functions known as:<<<<<\n",
    "\n",
    "# **findall: It finds all searches for matches and prints resultant in the form of a list.\n",
    "# **search: It works the same as a findall, but the resultant is a matched object if any is found.\n",
    "# **split: The split function splits the string from every matched into two new strings.\n",
    "# **sub: The sub-function works exactly like a replace function in notepad or MS Word.\n",
    "#     It replaces the original word with a word of our choice.\n",
    "# *****finditer: The finditer yields an iterator as a resultant with all the objects that match the one we sent it) \n",
    "#     finditer supports more attributes \n",
    "# than any other function defined above. It also provides more details related to the matched object. \n",
    "# So, most of the examples we are going to see next will contain a finditer function in them."
   ]
  },
  {
   "cell_type": "raw",
   "id": "9e5822e5",
   "metadata": {},
   "source": [
    "\n",
    "import re\n",
    "\n",
    "\n",
    "\n",
    "\n",
    "\n",
    "\n",
    "mystr = ''"
   ]
  },
  {
   "cell_type": "code",
   "execution_count": 17,
   "id": "7f4fd401",
   "metadata": {},
   "outputs": [
    {
     "name": "stdout",
     "output_type": "stream",
     "text": [
      "+918322839234\n",
      "+982345678901\n"
     ]
    }
   ],
   "source": [
    "# using findall\n",
    "\n",
    "import re\n",
    "s= \"this my mobile number +918322839234 and my office number is +982345678901\"\n",
    "\n",
    "pattern = re.compile(r'\\+\\d{12}')\n",
    "mn = pattern.findall(s)\n",
    "for match in mn:\n",
    "    print(match)"
   ]
  },
  {
   "cell_type": "code",
   "execution_count": 28,
   "id": "b469f9d4",
   "metadata": {},
   "outputs": [
    {
     "name": "stdout",
     "output_type": "stream",
     "text": [
      "+918322839234\n",
      "('+91', '8322839234')\n",
      "country code = +91\n",
      "number =  8322839234\n"
     ]
    }
   ],
   "source": [
    "# Group()\n",
    "\n",
    "import re\n",
    "s= \"this my mobile number +918322839234\"\n",
    "pn = re.compile(r'(\\+\\d{2})(\\d{10})')\n",
    "mn = pn.search(s)\n",
    "print(mn.group())\n",
    "print(mn.groups())\n",
    "print(\"country code =\",mn.group(1))\n",
    "print(\"number = \",mn.group(2))"
   ]
  },
  {
   "cell_type": "code",
   "execution_count": 3,
   "id": "363626fa",
   "metadata": {},
   "outputs": [
    {
     "ename": "IndentationError",
     "evalue": "expected an indented block (<ipython-input-3-8fdcea119daa>, line 10)",
     "output_type": "error",
     "traceback": [
      "\u001b[1;36m  File \u001b[1;32m\"<ipython-input-3-8fdcea119daa>\"\u001b[1;36m, line \u001b[1;32m10\u001b[0m\n\u001b[1;33m    else:\u001b[0m\n\u001b[1;37m    ^\u001b[0m\n\u001b[1;31mIndentationError\u001b[0m\u001b[1;31m:\u001b[0m expected an indented block\n"
     ]
    }
   ],
   "source": [
    "# find email in string \n",
    "\n",
    "import re\n",
    "\n",
    "def getemail(s):\n",
    "    se = re.compile(r'\\D\\w+@\\w+.\\w+')\n",
    "    ge = se.findall(s)\n",
    "    if ge:\n",
    "      \n",
    "    else:\n",
    "        return None\n",
    "s = \"this is my email i used to login for crypto working email is stunningvirus@gmail.com that it.\"\n",
    "\n",
    "print(getemail(s))"
   ]
  },
  {
   "cell_type": "code",
   "execution_count": null,
   "id": "63509837",
   "metadata": {},
   "outputs": [],
   "source": [
    "se = \"\"= re.compile(r'\\D\\w+@\\w+.\\w+')\n",
    "    ge = se.findall(s)\n",
    "    if ge:\n",
    "      \n",
    "    else:\n",
    "        return None\n",
    "s = \"this is my email i used to login for crypto working email is stunningvirus@gmail.com that it.\"\n"
   ]
  },
  {
   "cell_type": "code",
   "execution_count": null,
   "id": "987b8ed3",
   "metadata": {},
   "outputs": [],
   "source": []
  }
 ],
 "metadata": {
  "kernelspec": {
   "display_name": "Python 3",
   "language": "python",
   "name": "python3"
  },
  "language_info": {
   "codemirror_mode": {
    "name": "ipython",
    "version": 3
   },
   "file_extension": ".py",
   "mimetype": "text/x-python",
   "name": "python",
   "nbconvert_exporter": "python",
   "pygments_lexer": "ipython3",
   "version": "3.8.8"
  }
 },
 "nbformat": 4,
 "nbformat_minor": 5
}
