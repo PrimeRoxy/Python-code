{
 "cells": [
  {
   "cell_type": "code",
   "execution_count": 1,
   "id": "20342ed8",
   "metadata": {},
   "outputs": [
    {
     "name": "stdout",
     "output_type": "stream",
     "text": [
      "GUESS THE NUMBER\n",
      "You have 3 chance to WIN the Game\n",
      "Enter an integer from 1 to 10: 8\n",
      "guess is high\n",
      "Enter an integer from 1 to 10: 3\n",
      "guess is high\n",
      "Enter an integer from 1 to 10: 1\n",
      "guess is low\n",
      "You losse the game!\n"
     ]
    }
   ],
   "source": [
    "import random\n",
    "n = random.randint(1,10)\n",
    "count = 0\n",
    "print('GUESS THE NUMBER')\n",
    "print(\"You have 3 chance to WIN the Game\")\n",
    "\n",
    "while n != 'guess':\n",
    "    \n",
    "    if count == 3:\n",
    "        print('You losse the game!')\n",
    "        break\n",
    "        \n",
    "    guess = int(input('Enter an integer from 1 to 10: '))\n",
    "    if guess < n:\n",
    "        print('guess is low')\n",
    "    elif guess > n:\n",
    "        print('guess is high')\n",
    "    else:\n",
    "        print('you guess it!')\n",
    "        break\n",
    "    count += 1"
   ]
  },
  {
   "cell_type": "code",
   "execution_count": null,
   "id": "086f842e",
   "metadata": {},
   "outputs": [],
   "source": []
  },
  {
   "cell_type": "code",
   "execution_count": null,
   "id": "867c024e",
   "metadata": {},
   "outputs": [],
   "source": []
  },
  {
   "cell_type": "code",
   "execution_count": null,
   "id": "f62fa86a",
   "metadata": {},
   "outputs": [],
   "source": []
  }
 ],
 "metadata": {
  "kernelspec": {
   "display_name": "Python 3",
   "language": "python",
   "name": "python3"
  },
  "language_info": {
   "codemirror_mode": {
    "name": "ipython",
    "version": 3
   },
   "file_extension": ".py",
   "mimetype": "text/x-python",
   "name": "python",
   "nbconvert_exporter": "python",
   "pygments_lexer": "ipython3",
   "version": "3.8.8"
  }
 },
 "nbformat": 4,
 "nbformat_minor": 5
}
