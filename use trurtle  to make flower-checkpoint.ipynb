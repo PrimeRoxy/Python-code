{
 "cells": [
  {
   "cell_type": "code",
   "execution_count": null,
   "id": "66d985cd",
   "metadata": {},
   "outputs": [],
   "source": [
    "# use turtle for making beautyful flower\n",
    "from turtle import *\n",
    "\n",
    "def fleur():\n",
    "    for i in range(300):\n",
    "        circle(190-i,90)\n",
    "        left(90)\n",
    "        circle(190-i,90)\n",
    "        left(18)\n",
    "        \n",
    "        \n",
    "fleur()\n",
    "mainloop()"
   ]
  }
 ],
 "metadata": {
  "kernelspec": {
   "display_name": "Python 3",
   "language": "python",
   "name": "python3"
  },
  "language_info": {
   "codemirror_mode": {
    "name": "ipython",
    "version": 3
   },
   "file_extension": ".py",
   "mimetype": "text/x-python",
   "name": "python",
   "nbconvert_exporter": "python",
   "pygments_lexer": "ipython3",
   "version": "3.8.8"
  }
 },
 "nbformat": 4,
 "nbformat_minor": 5
}
