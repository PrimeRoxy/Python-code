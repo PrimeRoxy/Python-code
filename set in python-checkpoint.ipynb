{
 "cells": [
  {
   "cell_type": "code",
   "execution_count": null,
   "id": "3888e481",
   "metadata": {},
   "outputs": [],
   "source": [
    "#set in python "
   ]
  },
  {
   "cell_type": "code",
   "execution_count": 16,
   "id": "a9f9ebfb",
   "metadata": {},
   "outputs": [
    {
     "name": "stdout",
     "output_type": "stream",
     "text": [
      "<class 'set'>\n",
      "<class 'set'>\n",
      "<class 'set'>\n",
      "<class 'set'>\n",
      "{0, 4, 8, 12, 16, 20}\n"
     ]
    }
   ],
   "source": [
    "s1 = {'prime', 'hunter', 'roxy', 'ismart', 'ray'}\n",
    "s2 = set([2, 2, 4, 5, 7, 9])\n",
    "s3 = set((3, 4, 5, 5, 8))\n",
    "s4 = set(range(0,22,4))\n",
    "print(type(s1))\n",
    "print(type(s2))\n",
    "print(type(s3))\n",
    "print(type(s4))\n",
    "print(s4)"
   ]
  },
  {
   "cell_type": "code",
   "execution_count": null,
   "id": "8e74a11f",
   "metadata": {},
   "outputs": [],
   "source": [
    "#add, remove, discard"
   ]
  },
  {
   "cell_type": "code",
   "execution_count": 51,
   "id": "0a61c3d2",
   "metadata": {},
   "outputs": [
    {
     "name": "stdout",
     "output_type": "stream",
     "text": [
      "{'hunter', 'ismart', 'roxy', 'prime', 'ray'}\n",
      "{'hunter', 'vipul', 'ismart', 'roxy', 'prime', 'ray'}\n",
      "{'hunter', 'vipul', 'ismart', 'prime', 'ray'}\n",
      "{'hunter', 'vipul', 'ismart', 'ray'}\n",
      "{'hunter', 'vipul', 'ismart', 'ray'}\n"
     ]
    }
   ],
   "source": [
    "s1 = {'prime', 'hunter', 'roxy', 'ismart', 'ray'}\n",
    "print(s1)\n",
    "s1.add('vipul')\n",
    "print(s1)\n",
    "\n",
    "s1.remove('roxy')\n",
    "print(s1)\n",
    "\n",
    "s1.discard('prime')\n",
    "print(s1)\n",
    "\n",
    "s1.discard('iteam')\n",
    "print(s1)"
   ]
  },
  {
   "cell_type": "code",
   "execution_count": null,
   "id": "55266ec6",
   "metadata": {},
   "outputs": [],
   "source": [
    "#lenght"
   ]
  },
  {
   "cell_type": "code",
   "execution_count": 17,
   "id": "0191398a",
   "metadata": {},
   "outputs": [
    {
     "name": "stdout",
     "output_type": "stream",
     "text": [
      "5\n"
     ]
    }
   ],
   "source": [
    "l = len(s1)\n",
    "print(l)"
   ]
  },
  {
   "cell_type": "code",
   "execution_count": null,
   "id": "d07214d2",
   "metadata": {},
   "outputs": [],
   "source": [
    "# difference, union,  intersection $ lenght"
   ]
  },
  {
   "cell_type": "code",
   "execution_count": 43,
   "id": "b0f03c6c",
   "metadata": {},
   "outputs": [
    {
     "name": "stdout",
     "output_type": "stream",
     "text": [
      "{2, 3, 4, 6, 8, 9, 10, 12, 14, 15, 16, 18, 20, 21, 24, 27, 30}\n",
      "{18, 12, 6}\n",
      "10\n",
      "{3, 9, 15, 21, 24, 27, 30}\n",
      "{2, 4, 8, 10, 14, 16, 20}\n",
      "{2, 3, 4, 8, 9, 10, 14, 15, 16, 20, 21, 24, 27, 30}\n",
      "{2, 3, 4, 8, 9, 10, 14, 15, 16, 20, 21, 24, 27, 30}\n"
     ]
    }
   ],
   "source": [
    "set1 = {2, 4, 6, 8, 10, 12, 14, 16, 18, 20}\n",
    "set2 = {3, 6, 9, 12, 15, 18, 21, 24, 27, 30}\n",
    "\n",
    "#u = set2.union(set1)\n",
    "#print(u)\n",
    "print(set2 | (set1))\n",
    "\n",
    "#i = set1.intersection(set2)\n",
    "#print(i)\n",
    "print(set1 & (set2))\n",
    "\n",
    "\n",
    "print(len(set1))\n",
    "\n",
    "#print(set1.difference(set2))\n",
    "print(set2.difference(set1))\n",
    "print(set1-set2)\n",
    "\n",
    "\n",
    "print(set1.symmetric_difference(set2))\n",
    "print(set1 ^ set2)\n",
    "\n",
    "\n",
    "\n"
   ]
  },
  {
   "cell_type": "code",
   "execution_count": null,
   "id": "eb6946e4",
   "metadata": {},
   "outputs": [],
   "source": [
    "#subset, superset"
   ]
  },
  {
   "cell_type": "code",
   "execution_count": 59,
   "id": "1f2cc95f",
   "metadata": {},
   "outputs": [
    {
     "name": "stdout",
     "output_type": "stream",
     "text": [
      "True\n",
      "True\n",
      "True\n",
      "True\n"
     ]
    }
   ],
   "source": [
    "a = {2, 3, 4, 5, 6, 7, 8, 9}\n",
    "b = {2, 4, 6, 8}\n",
    "\n",
    "print(a.issuperset(b))\n",
    "print(a >= b)\n",
    "\n",
    "print(b.issubset(a))\n",
    "print(b <= a)"
   ]
  },
  {
   "cell_type": "code",
   "execution_count": null,
   "id": "e1da943e",
   "metadata": {},
   "outputs": [],
   "source": [
    "#frozen set\n",
    "#its cannot perform add, remove function\n"
   ]
  },
  {
   "cell_type": "code",
   "execution_count": 61,
   "id": "66e17662",
   "metadata": {},
   "outputs": [
    {
     "name": "stdout",
     "output_type": "stream",
     "text": [
      "<class 'frozenset'>\n"
     ]
    }
   ],
   "source": [
    "new_set = frozenset({2, 4, 6, 6, 43, 67})\n",
    "print(type(new_set))"
   ]
  },
  {
   "cell_type": "code",
   "execution_count": null,
   "id": "c76494c4",
   "metadata": {},
   "outputs": [],
   "source": [
    "# creat a program that take input from user and remove the vowels from input\n",
    "#input in string form."
   ]
  },
  {
   "cell_type": "code",
   "execution_count": 64,
   "id": "a771d124",
   "metadata": {},
   "outputs": [
    {
     "name": "stdout",
     "output_type": "stream",
     "text": [
      "enter the textpython is amazing language!\n",
      "[' ', '!', 'g', 'h', 'l', 'm', 'n', 'p', 's', 't', 'y', 'z']\n"
     ]
    }
   ],
   "source": [
    "user = set(input(\"enter the text: \"))\n",
    "vowels = frozenset(\"aioueIAOUE\")\n",
    "print(sorted(user - vowels))"
   ]
  },
  {
   "cell_type": "code",
   "execution_count": null,
   "id": "c1fbd0e1",
   "metadata": {},
   "outputs": [],
   "source": []
  },
  {
   "cell_type": "code",
   "execution_count": null,
   "id": "eb65d97e",
   "metadata": {},
   "outputs": [],
   "source": []
  }
 ],
 "metadata": {
  "kernelspec": {
   "display_name": "Python 3",
   "language": "python",
   "name": "python3"
  },
  "language_info": {
   "codemirror_mode": {
    "name": "ipython",
    "version": 3
   },
   "file_extension": ".py",
   "mimetype": "text/x-python",
   "name": "python",
   "nbconvert_exporter": "python",
   "pygments_lexer": "ipython3",
   "version": "3.8.8"
  }
 },
 "nbformat": 4,
 "nbformat_minor": 5
}
