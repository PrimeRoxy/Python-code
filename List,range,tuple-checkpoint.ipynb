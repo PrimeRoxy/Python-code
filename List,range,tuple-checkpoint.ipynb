{
 "cells": [
  {
   "cell_type": "code",
   "execution_count": null,
   "id": "b83b6761",
   "metadata": {},
   "outputs": [],
   "source": [
    "#list "
   ]
  },
  {
   "cell_type": "code",
   "execution_count": null,
   "id": "0e50a81b",
   "metadata": {},
   "outputs": [],
   "source": [
    "#list split every things tht is present list"
   ]
  },
  {
   "cell_type": "code",
   "execution_count": 4,
   "id": "e48fbb67",
   "metadata": {},
   "outputs": [
    {
     "name": "stdout",
     "output_type": "stream",
     "text": [
      "['h', 'j', 'h', 'h', 'l', 'k', 'd', ' ', 'd', 'o', 'i', 'o', 'i', 'j', 'k', ' ', ' ', 'k', 'l', 'l', 'k', 'u', 'o']\n"
     ]
    }
   ],
   "source": [
    "l1 = list('hjhhlkd doioijk  kllkuo')\n",
    "print(l1)"
   ]
  },
  {
   "cell_type": "code",
   "execution_count": 6,
   "id": "e9b9ae9f",
   "metadata": {},
   "outputs": [
    {
     "name": "stdout",
     "output_type": "stream",
     "text": [
      "['ryuwnbkjkninoiniubggug8ewgib ']\n"
     ]
    }
   ],
   "source": [
    "l1 = ['ryuwnbkjkninoiniubggug8ewgib ']\n",
    "l2 = l1\n",
    "print(l2)"
   ]
  },
  {
   "cell_type": "code",
   "execution_count": 9,
   "id": "d488dd1a",
   "metadata": {},
   "outputs": [
    {
     "name": "stdout",
     "output_type": "stream",
     "text": [
      "True\n"
     ]
    }
   ],
   "source": [
    "l1= [3,35,6564,5,6,3,56,3,25,6477,4]\n",
    "\n",
    "l2 = l1\n",
    "\n",
    "print(l1 is l2)"
   ]
  },
  {
   "cell_type": "code",
   "execution_count": 11,
   "id": "54258c87",
   "metadata": {},
   "outputs": [
    {
     "name": "stdout",
     "output_type": "stream",
     "text": [
      "[3, 3, 3, 4, 5, 6, 25, 35, 56, 6477, 6564]\n"
     ]
    }
   ],
   "source": [
    "l1= [3,35,6564,5,6,3,56,3,25,6477,4]\n",
    "\n",
    "l2 = l1\n",
    "l2.sort()\n",
    "print(l2)"
   ]
  },
  {
   "cell_type": "code",
   "execution_count": null,
   "id": "cf3c34c4",
   "metadata": {},
   "outputs": [],
   "source": [
    "#append to add new iteams in list"
   ]
  },
  {
   "cell_type": "code",
   "execution_count": 12,
   "id": "a550e997",
   "metadata": {},
   "outputs": [
    {
     "name": "stdout",
     "output_type": "stream",
     "text": [
      "[3, 3, 3, 4, 5, 6, 25, 35, 56, 6477, 6564, 3]\n"
     ]
    }
   ],
   "source": [
    "l2.append(3)\n",
    "print(l2)"
   ]
  },
  {
   "cell_type": "code",
   "execution_count": null,
   "id": "b9fac472",
   "metadata": {},
   "outputs": [],
   "source": [
    "# use sort mode"
   ]
  },
  {
   "cell_type": "code",
   "execution_count": 13,
   "id": "61d6a9fe",
   "metadata": {},
   "outputs": [
    {
     "name": "stdout",
     "output_type": "stream",
     "text": [
      "[6564, 6477, 56, 35, 25, 6, 5, 4, 3, 3, 3, 3]\n"
     ]
    }
   ],
   "source": [
    "l2.sort(reverse = True)\n",
    "print(l2)"
   ]
  },
  {
   "cell_type": "code",
   "execution_count": null,
   "id": "f0d1fb23",
   "metadata": {},
   "outputs": [],
   "source": [
    "# is"
   ]
  },
  {
   "cell_type": "code",
   "execution_count": 14,
   "id": "2f4826ca",
   "metadata": {},
   "outputs": [
    {
     "name": "stdout",
     "output_type": "stream",
     "text": [
      "False\n"
     ]
    }
   ],
   "source": [
    "l1 = []\n",
    "l2 = []\n",
    "print(l1 is l2)"
   ]
  },
  {
   "cell_type": "code",
   "execution_count": null,
   "id": "58b9e4f2",
   "metadata": {},
   "outputs": [],
   "source": [
    "# equl"
   ]
  },
  {
   "cell_type": "code",
   "execution_count": 15,
   "id": "a0e8d866",
   "metadata": {},
   "outputs": [
    {
     "name": "stdout",
     "output_type": "stream",
     "text": [
      "True\n"
     ]
    }
   ],
   "source": [
    "l1 = []\n",
    "l2 = []\n",
    "print(l1 == l2)"
   ]
  },
  {
   "cell_type": "code",
   "execution_count": null,
   "id": "f18f7960",
   "metadata": {},
   "outputs": [],
   "source": [
    "# use form loops "
   ]
  },
  {
   "cell_type": "code",
   "execution_count": 16,
   "id": "5805b728",
   "metadata": {},
   "outputs": [
    {
     "name": "stdout",
     "output_type": "stream",
     "text": [
      "([1, 3, 5, 7, 9], [2, 4, 6, 8, 0])\n",
      "[1, 3, 5, 7, 9]\n",
      "1\n",
      "3\n",
      "5\n",
      "7\n",
      "9\n",
      "[2, 4, 6, 8, 0]\n",
      "2\n",
      "4\n",
      "6\n",
      "8\n",
      "0\n"
     ]
    }
   ],
   "source": [
    "odd = [1, 3, 5 ,7,9]\n",
    "even = [2, 4, 6, 8, 0]\n",
    "\n",
    "numbers = (odd,even)\n",
    "\n",
    "print(numbers)\n",
    "\n",
    "for i in numbers:\n",
    "    print(i)\n",
    "    for w in i:\n",
    "        print(w)\n",
    "\n",
    "\n"
   ]
  },
  {
   "cell_type": "code",
   "execution_count": null,
   "id": "cecba52e",
   "metadata": {},
   "outputs": [],
   "source": []
  },
  {
   "cell_type": "code",
   "execution_count": null,
   "id": "b2cd8507",
   "metadata": {},
   "outputs": [],
   "source": []
  },
  {
   "cell_type": "code",
   "execution_count": 22,
   "id": "a00699c7",
   "metadata": {},
   "outputs": [
    {
     "name": "stdout",
     "output_type": "stream",
     "text": [
      "cheery\n",
      "cream\n",
      "bread\n",
      "onioun\n",
      "cream\n",
      "bread\n",
      "chicken\n"
     ]
    }
   ],
   "source": [
    "for mainmenu in menu:\n",
    "    if 'egg' not in mainmenu:\n",
    "        for iteam in mainmenu:\n",
    "            print(iteam)"
   ]
  },
  {
   "cell_type": "code",
   "execution_count": null,
   "id": "a3f66e74",
   "metadata": {},
   "outputs": [],
   "source": []
  },
  {
   "cell_type": "code",
   "execution_count": 32,
   "id": "d1592abb",
   "metadata": {},
   "outputs": [
    {
     "name": "stdout",
     "output_type": "stream",
     "text": [
      "99\n",
      "96\n",
      "93\n",
      "90\n",
      "87\n",
      "84\n",
      "81\n",
      "78\n",
      "75\n",
      "72\n",
      "69\n",
      "66\n",
      "63\n",
      "60\n",
      "57\n",
      "54\n",
      "51\n",
      "48\n",
      "45\n",
      "42\n",
      "39\n",
      "36\n",
      "33\n",
      "30\n",
      "27\n",
      "24\n",
      "21\n",
      "18\n",
      "15\n",
      "12\n",
      "9\n",
      "6\n",
      "3\n"
     ]
    }
   ],
   "source": [
    "for i in range(99,0,-3):\n",
    "   \n",
    "    print(i)"
   ]
  },
  {
   "cell_type": "code",
   "execution_count": 49,
   "id": "fb90084c",
   "metadata": {},
   "outputs": [
    {
     "name": "stdout",
     "output_type": "stream",
     "text": [
      "[0, 1, 2, 3, 4, 5, 6, 7, 8, 9, 10, 11, 12, 13, 14, 15, 16, 17, 18, 19, 20, 21, 22, 23, 24, 25, 26, 27, 28, 29, 30, 31, 32, 33, 34, 35, 36, 37, 38, 39, 40, 41, 42, 43, 44, 45, 46, 47, 48, 49, 50, 51, 52, 53, 54, 55, 56, 57, 58, 59, 60, 61, 62, 63, 64, 65, 66, 67, 68, 69, 70, 71, 72, 73, 74, 75, 76, 77, 78, 79, 80, 81, 82, 83, 84, 85, 86, 87, 88, 89, 90, 91, 92, 93, 94, 95, 96, 97, 98, 99]\n"
     ]
    }
   ],
   "source": [
    "r = range(0,100)\n",
    "print(list(r))"
   ]
  },
  {
   "cell_type": "code",
   "execution_count": 43,
   "id": "07670071",
   "metadata": {},
   "outputs": [
    {
     "name": "stdout",
     "output_type": "stream",
     "text": [
      "range(0, 100)\n",
      "99\n",
      "96\n",
      "93\n",
      "90\n",
      "87\n",
      "84\n",
      "81\n",
      "78\n",
      "75\n",
      "72\n",
      "69\n",
      "66\n",
      "63\n",
      "60\n",
      "57\n",
      "54\n",
      "51\n",
      "48\n",
      "45\n",
      "42\n",
      "39\n",
      "36\n",
      "33\n",
      "30\n",
      "27\n",
      "24\n",
      "21\n",
      "18\n",
      "15\n",
      "12\n",
      "9\n",
      "6\n",
      "3\n",
      "0\n"
     ]
    }
   ],
   "source": [
    "r = range(0,100)\n",
    "print(r)\n",
    "\n",
    "for i in r[::-3]:\n",
    "    \n",
    "    print(i)"
   ]
  },
  {
   "cell_type": "code",
   "execution_count": null,
   "id": "c81c96e1",
   "metadata": {},
   "outputs": [],
   "source": []
  },
  {
   "cell_type": "code",
   "execution_count": 45,
   "id": "1e9b2f5b",
   "metadata": {},
   "outputs": [
    {
     "name": "stdout",
     "output_type": "stream",
     "text": [
      "!kcul ru yrt\n"
     ]
    }
   ],
   "source": [
    "string = 'try ur luck!'\n",
    "\n",
    "print(string[::-1])"
   ]
  },
  {
   "cell_type": "code",
   "execution_count": 47,
   "id": "d0c144d1",
   "metadata": {},
   "outputs": [
    {
     "name": "stdout",
     "output_type": "stream",
     "text": [
      "[0, 2, 4, 6, 8, 10, 12, 14, 16, 18, 20, 22, 24, 26, 28, 30, 32, 34, 36, 38, 40, 42, 44, 46, 48, 50, 52, 54, 56, 58, 60, 62, 64, 66, 68, 70, 72, 74, 76, 78, 80, 82, 84, 86, 88, 90, 92, 94, 96, 98]\n"
     ]
    }
   ],
   "source": [
    "r = range(0,100,2)\n",
    "print(list(r))"
   ]
  },
  {
   "cell_type": "code",
   "execution_count": null,
   "id": "bb4a3299",
   "metadata": {},
   "outputs": [],
   "source": []
  }
 ],
 "metadata": {
  "kernelspec": {
   "display_name": "Python 3",
   "language": "python",
   "name": "python3"
  },
  "language_info": {
   "codemirror_mode": {
    "name": "ipython",
    "version": 3
   },
   "file_extension": ".py",
   "mimetype": "text/x-python",
   "name": "python",
   "nbconvert_exporter": "python",
   "pygments_lexer": "ipython3",
   "version": "3.8.8"
  }
 },
 "nbformat": 4,
 "nbformat_minor": 5
}
